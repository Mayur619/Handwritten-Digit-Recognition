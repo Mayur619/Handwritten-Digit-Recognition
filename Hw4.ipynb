{
 "cells": [
  {
   "cell_type": "code",
   "execution_count": 58,
   "metadata": {},
   "outputs": [],
   "source": [
    "import warnings\n",
    "import pandas as pd\n",
    "import numpy as np\n",
    "from sklearn.model_selection import train_test_split,KFold\n",
    "from sklearn.metrics import accuracy_score,log_loss\n",
    "from sklearn.neural_network import multilayer_perceptron\n",
    "from sklearn.model_selection import GridSearchCV,PredefinedSplit\n",
    "warnings.filterwarnings('ignore')"
   ]
  },
  {
   "cell_type": "code",
   "execution_count": 59,
   "metadata": {},
   "outputs": [],
   "source": [
    "training_df=pd.read_csv(\"data/optdigits.tra\",header=None)\n",
    "training_df=training_df[((training_df.iloc[:,-1]==1) | (training_df.iloc[:,-1]==7))]\n",
    "training_df.replace({7:0},inplace=True)\n",
    "DIMENSIONS=64\n",
    "models=[]\n",
    "data_partitions=[]\n",
    "kfold=KFold(n_splits=10,shuffle=True,random_state=2)\n",
    "for train_index,test_index in kfold.split(training_df):\n",
    "    data_partitions.append((training_df.iloc[train_index,:-1].values,training_df.iloc[train_index,-1].values,training_df.iloc[test_index,:-1].values,training_df.iloc[test_index,-1].values))"
   ]
  },
  {
   "cell_type": "code",
   "execution_count": 60,
   "metadata": {},
   "outputs": [],
   "source": [
    "class LogisticRegression:\n",
    "    def __init__(self,learning_rate,momentum,dimensions,a,b):\n",
    "        self.learning_rate=learning_rate\n",
    "        self.momentum=momentum\n",
    "        self.dimensions=dimensions\n",
    "        self.weights=np.random.uniform(low=0,high=0.0001,size=(dimensions,1))\n",
    "        self.a=a\n",
    "        self.b=b\n",
    "    def print_model_parameters(self,i):\n",
    "        print(\"*\"*45)\n",
    "        print(\"Run:{0}\\nInitial learning rate:{1}\\nInitial momentum:{2}\".format(i,self.learning_rate,self.momentum))\n",
    "    def sigmoid_activation(self,x):\n",
    "        return 1/(1+np.exp(-x))\n",
    "    def cross_entropy(self,y_true,y_pred):\n",
    "        return log_loss(y_true,y_pred)\n",
    "    def train(self,x_train,y_train,n_iter=50):\n",
    "        #print(x_train.shape)\n",
    "        errors=[]\n",
    "        converged=False\n",
    "        while converged==False and n_iter!=0:\n",
    "            error=0\n",
    "            n_iter-=1\n",
    "            predictions=[]\n",
    "            temp=np.zeros(shape=(self.dimensions))\n",
    "            d_weights=np.zeros(shape=(self.dimensions))\n",
    "            for i in range(x_train.shape[0]):\n",
    "                o=0\n",
    "                for j in range(x_train.shape[1]):\n",
    "                    o+=(self.weights[j]*x_train[i,j])\n",
    "                y_pred=self.sigmoid_activation(o)\n",
    "                for j in range(x_train.shape[1]):\n",
    "                    #d_weights[j]+=learning_rate*(y_train[i]-y_pred)*x_train[i,j]\n",
    "                    d_weights[j]=(self.learning_rate*(y_train[i]-y_pred)*x_train[i,j])+(self.momentum*d_weights[j])\n",
    "                predictions.append(y_train[i]-y_pred)\n",
    "            isDecreasing=True\n",
    "            errors.append(self.cross_entropy(y_train,np.array(predictions)))\n",
    "            current_error=errors[-1]\n",
    "            for i in range(len(errors)-1):\n",
    "                if errors[i]<=current_error:\n",
    "                    isDecreasing=False\n",
    "                    break\n",
    "            if isDecreasing:\n",
    "                self.learning_rate+=self.a\n",
    "            else:\n",
    "                self.learning_rate-=(self.b*self.learning_rate)\n",
    "            for j in range(self.dimensions):\n",
    "                #self.weights[j]+=self.learning_rate*d_weights[j]\n",
    "                self.weights[j]+=(d_weights[j])\n",
    "            try:\n",
    "                if errors[-2]==errors[-1]:\n",
    "                    converged=True\n",
    "            except IndexError:\n",
    "                continue\n",
    "        self.evaluate(\"Training\",y_train,self.predict(x_train))\n",
    "    def predict(self,x):\n",
    "        y_pred=self.sigmoid_activation(np.sum(x*self.weights.T,axis=1))\n",
    "        y_pred=np.array(y_pred>0.5,dtype=np.int16)\n",
    "        return y_pred\n",
    "    def evaluate(self,string,y_true,y_pred):\n",
    "        print(\"{0} error rate for run :{1}\".format(string,1-accuracy_score(y_true,y_pred)))"
   ]
  },
  {
   "cell_type": "code",
   "execution_count": 62,
   "metadata": {},
   "outputs": [
    {
     "name": "stdout",
     "output_type": "stream",
     "text": [
      "*********************************************\n",
      "Run:0\n",
      "Initial learning rate:0.00040144162936975737\n",
      "Initial momentum:0.9737286382324217\n",
      "Training error rate for run :0.017191977077363862\n",
      "Test error rate for run :0.012820512820512775\n",
      "*********************************************\n",
      "Run:1\n",
      "Initial learning rate:0.0005401586661375765\n",
      "Initial momentum:0.9799547161610317\n",
      "Training error rate for run :0.015759312320916874\n",
      "Test error rate for run :0.012820512820512775\n",
      "*********************************************\n",
      "Run:2\n",
      "Initial learning rate:0.00021777353675207426\n",
      "Initial momentum:0.9507496855473396\n",
      "Training error rate for run :0.014326647564469885\n",
      "Test error rate for run :0.012820512820512775\n",
      "*********************************************\n",
      "Run:3\n",
      "Initial learning rate:0.00011092765858462998\n",
      "Initial momentum:0.964516466744894\n",
      "Training error rate for run :0.011461318051575908\n",
      "Test error rate for run :0.012820512820512775\n",
      "*********************************************\n",
      "Run:4\n",
      "Initial learning rate:0.0004564738836844508\n",
      "Initial momentum:0.9126073196751624\n",
      "Training error rate for run :0.015759312320916874\n",
      "Test error rate for run :0.012820512820512775\n",
      "*********************************************\n",
      "Run:5\n",
      "Initial learning rate:0.000954089049533245\n",
      "Initial momentum:0.9484297980228987\n",
      "Training error rate for run :0.011461318051575908\n",
      "Test error rate for run :0.038461538461538436\n",
      "*********************************************\n",
      "Run:6\n",
      "Initial learning rate:0.0006672180668727937\n",
      "Initial momentum:0.9525640951476012\n",
      "Training error rate for run :0.008583690987124415\n",
      "Test error rate for run :0.025974025974025983\n",
      "*********************************************\n",
      "Run:7\n",
      "Initial learning rate:0.0006155395931199381\n",
      "Initial momentum:0.9785965318141687\n",
      "Training error rate for run :0.005722460658083017\n",
      "Test error rate for run :0.012987012987012991\n",
      "*********************************************\n",
      "Run:8\n",
      "Initial learning rate:0.00024047677723203448\n",
      "Initial momentum:0.9557749187642156\n",
      "Training error rate for run :0.01573676680972813\n",
      "Test error rate for run :0.0\n",
      "*********************************************\n",
      "Run:9\n",
      "Initial learning rate:0.0008935422187535847\n",
      "Initial momentum:0.913208557739888\n",
      "Training error rate for run :0.02145922746781115\n",
      "Test error rate for run :0.012987012987012991\n"
     ]
    }
   ],
   "source": [
    "for i in range(10):\n",
    "    learning_rate=np.random.uniform(low=0.0001,high=0.001)\n",
    "    momentum=np.random.uniform(low=0.9,high=0.99)\n",
    "    model=LogisticRegression(learning_rate,momentum,DIMENSIONS,0.0001,0.0002)\n",
    "    x_train,y_train,x_test,y_test=data_partitions[i]\n",
    "    model.print_model_parameters(i)\n",
    "    model.train(x_train,y_train,10)\n",
    "    models.append(model)\n",
    "    model.evaluate(\"Test\",y_test,model.predict(x_test))"
   ]
  },
  {
   "cell_type": "code",
   "execution_count": 63,
   "metadata": {},
   "outputs": [],
   "source": [
    "abs_avg_weights=[]\n",
    "for model in models:\n",
    "    abs_avg_weights.append(np.abs(model.weights))\n",
    "abs_avg_weights=np.array(abs_avg_weights)\n",
    "abs_avg_weights=abs_avg_weights.sum(axis=0)\n"
   ]
  },
  {
   "cell_type": "code",
   "execution_count": 64,
   "metadata": {},
   "outputs": [],
   "source": [
    "after_elimination_10=abs_avg_weights.argsort()[:int(0.9*DIMENSIONS)]\n",
    "after_elimination_25=abs_avg_weights.argsort()[:int(0.75*DIMENSIONS)]\n",
    "after_elimination_50=abs_avg_weights.argsort()[:int(0.5*DIMENSIONS)]"
   ]
  },
  {
   "cell_type": "code",
   "execution_count": 65,
   "metadata": {},
   "outputs": [
    {
     "name": "stdout",
     "output_type": "stream",
     "text": [
      "*********************************************\n",
      "Run:0\n",
      "Initial learning rate:0.00045883598948382365\n",
      "Initial momentum:0.9427174532111307\n",
      "Training error rate for run :0.504297994269341\n",
      "Test error rate for run :0.47435897435897434\n",
      "*********************************************\n",
      "Run:1\n",
      "Initial learning rate:0.0003679213169230272\n",
      "Initial momentum:0.9434088191525474\n",
      "Training error rate for run :0.501432664756447\n",
      "Test error rate for run :0.5\n",
      "*********************************************\n",
      "Run:2\n",
      "Initial learning rate:0.0006294009103371869\n",
      "Initial momentum:0.9154931717148976\n",
      "Training error rate for run :0.49426934097421205\n",
      "Test error rate for run :0.5641025641025641\n",
      "*********************************************\n",
      "Run:3\n",
      "Initial learning rate:0.00014431588068329843\n",
      "Initial momentum:0.9353279091127247\n",
      "Training error rate for run :0.497134670487106\n",
      "Test error rate for run :0.5384615384615384\n",
      "*********************************************\n",
      "Run:4\n",
      "Initial learning rate:0.0009440398279544215\n",
      "Initial momentum:0.9540124024122225\n",
      "Training error rate for run :0.5128939828080229\n",
      "Test error rate for run :0.39743589743589747\n",
      "*********************************************\n",
      "Run:5\n",
      "Initial learning rate:0.000829287026200854\n",
      "Initial momentum:0.9190632611899698\n",
      "Training error rate for run :0.49283667621776506\n",
      "Test error rate for run :0.5769230769230769\n",
      "*********************************************\n",
      "Run:6\n",
      "Initial learning rate:0.00012615005793358588\n",
      "Initial momentum:0.9863050586144265\n",
      "Training error rate for run :0.5107296137339056\n",
      "Test error rate for run :0.4155844155844156\n",
      "*********************************************\n",
      "Run:7\n",
      "Initial learning rate:0.0002903440283184197\n",
      "Initial momentum:0.9801694358201358\n",
      "Training error rate for run :0.49499284692417744\n",
      "Test error rate for run :0.5584415584415585\n",
      "*********************************************\n",
      "Run:8\n",
      "Initial learning rate:0.00027034343887855317\n",
      "Initial momentum:0.9616549478455645\n",
      "Training error rate for run :0.5035765379113019\n",
      "Test error rate for run :0.48051948051948057\n",
      "*********************************************\n",
      "Run:9\n",
      "Initial learning rate:0.00011808546393448171\n",
      "Initial momentum:0.9118760169336904\n",
      "Training error rate for run :0.5007153075822603\n",
      "Test error rate for run :0.5064935064935066\n"
     ]
    }
   ],
   "source": [
    "for i in range(10):\n",
    "    learning_rate=np.random.uniform(low=0.0001,high=0.001)\n",
    "    momentum=np.random.uniform(low=0.9,high=0.99)\n",
    "    model=LogisticRegression(learning_rate,momentum,after_elimination_10.shape[0],0.0001,0.0002)\n",
    "    x_train,y_train,x_test,y_test=data_partitions[i]\n",
    "    model.print_model_parameters(i)\n",
    "    model.train(x_train[:,after_elimination_10].reshape(x_train.shape[0],after_elimination_10.shape[0]),y_train,10)\n",
    "    model.evaluate(\"Test\",y_test,model.predict(x_test[:,after_elimination_10].reshape(x_test.shape[0],after_elimination_10.shape[0])))"
   ]
  },
  {
   "cell_type": "code",
   "execution_count": 66,
   "metadata": {},
   "outputs": [
    {
     "name": "stdout",
     "output_type": "stream",
     "text": [
      "*********************************************\n",
      "Run:0\n",
      "Initial learning rate:0.00031044320610571386\n",
      "Initial momentum:0.9084721609927934\n",
      "Training error rate for run :0.504297994269341\n",
      "Test error rate for run :0.47435897435897434\n",
      "*********************************************\n",
      "Run:1\n",
      "Initial learning rate:0.0007898039233347815\n",
      "Initial momentum:0.963099391206883\n",
      "Training error rate for run :0.501432664756447\n",
      "Test error rate for run :0.5\n",
      "*********************************************\n",
      "Run:2\n",
      "Initial learning rate:0.00011865751397149439\n",
      "Initial momentum:0.9014998382086711\n",
      "Training error rate for run :0.49426934097421205\n",
      "Test error rate for run :0.5641025641025641\n",
      "*********************************************\n",
      "Run:3\n",
      "Initial learning rate:0.0003708332262990524\n",
      "Initial momentum:0.9081733311307482\n",
      "Training error rate for run :0.497134670487106\n",
      "Test error rate for run :0.5384615384615384\n",
      "*********************************************\n",
      "Run:4\n",
      "Initial learning rate:0.000554611613489805\n",
      "Initial momentum:0.9756689281170841\n",
      "Training error rate for run :0.5128939828080229\n",
      "Test error rate for run :0.39743589743589747\n",
      "*********************************************\n",
      "Run:5\n",
      "Initial learning rate:0.0008733882018277413\n",
      "Initial momentum:0.9385910369361099\n",
      "Training error rate for run :0.49283667621776506\n",
      "Test error rate for run :0.5769230769230769\n",
      "*********************************************\n",
      "Run:6\n",
      "Initial learning rate:0.0009867971321154674\n",
      "Initial momentum:0.9484133580890208\n",
      "Training error rate for run :0.5107296137339056\n",
      "Test error rate for run :0.4155844155844156\n",
      "*********************************************\n",
      "Run:7\n",
      "Initial learning rate:0.0004828014570155403\n",
      "Initial momentum:0.9280311107923377\n",
      "Training error rate for run :0.49499284692417744\n",
      "Test error rate for run :0.5584415584415585\n",
      "*********************************************\n",
      "Run:8\n",
      "Initial learning rate:0.0001799757368163383\n",
      "Initial momentum:0.9231618354900832\n",
      "Training error rate for run :0.5035765379113019\n",
      "Test error rate for run :0.48051948051948057\n",
      "*********************************************\n",
      "Run:9\n",
      "Initial learning rate:0.0009422026431516725\n",
      "Initial momentum:0.9725421062674429\n",
      "Training error rate for run :0.5007153075822603\n",
      "Test error rate for run :0.5064935064935066\n"
     ]
    }
   ],
   "source": [
    "for i in range(10):\n",
    "    learning_rate=np.random.uniform(low=0.0001,high=0.001)\n",
    "    momentum=np.random.uniform(low=0.9,high=0.99)\n",
    "    model=LogisticRegression(learning_rate,momentum,after_elimination_25.shape[0],0.0001,0.0002)\n",
    "    x_train,y_train,x_test,y_test=data_partitions[i]\n",
    "    model.print_model_parameters(i)\n",
    "    model.train(x_train[:,after_elimination_25].reshape(x_train.shape[0],after_elimination_25.shape[0]),y_train,10)\n",
    "    model.evaluate(\"Test\",y_test,model.predict(x_test[:,after_elimination_25].reshape(x_test.shape[0],after_elimination_25.shape[0])))"
   ]
  },
  {
   "cell_type": "code",
   "execution_count": 67,
   "metadata": {},
   "outputs": [
    {
     "name": "stdout",
     "output_type": "stream",
     "text": [
      "*********************************************\n",
      "Run:0\n",
      "Initial learning rate:0.0004314317124762433\n",
      "Initial momentum:0.9114046390542171\n",
      "Training error rate for run :0.504297994269341\n",
      "Test error rate for run :0.47435897435897434\n",
      "*********************************************\n",
      "Run:1\n",
      "Initial learning rate:0.0008677861727984523\n",
      "Initial momentum:0.9637681711920087\n",
      "Training error rate for run :0.501432664756447\n",
      "Test error rate for run :0.5\n",
      "*********************************************\n",
      "Run:2\n",
      "Initial learning rate:0.000596276055638226\n",
      "Initial momentum:0.9012985840717456\n",
      "Training error rate for run :0.49426934097421205\n",
      "Test error rate for run :0.5641025641025641\n",
      "*********************************************\n",
      "Run:3\n",
      "Initial learning rate:0.0009466935931311976\n",
      "Initial momentum:0.979663329896773\n",
      "Training error rate for run :0.497134670487106\n",
      "Test error rate for run :0.5384615384615384\n",
      "*********************************************\n",
      "Run:4\n",
      "Initial learning rate:0.0008375454300433501\n",
      "Initial momentum:0.9554767815614018\n",
      "Training error rate for run :0.5128939828080229\n",
      "Test error rate for run :0.39743589743589747\n",
      "*********************************************\n",
      "Run:5\n",
      "Initial learning rate:0.00044333704698886704\n",
      "Initial momentum:0.9809935988217621\n",
      "Training error rate for run :0.49283667621776506\n",
      "Test error rate for run :0.5769230769230769\n",
      "*********************************************\n",
      "Run:6\n",
      "Initial learning rate:0.000896949683160639\n",
      "Initial momentum:0.9273211650872853\n",
      "Training error rate for run :0.5107296137339056\n",
      "Test error rate for run :0.4155844155844156\n",
      "*********************************************\n",
      "Run:7\n",
      "Initial learning rate:0.0007170104687238864\n",
      "Initial momentum:0.9138209521439616\n",
      "Training error rate for run :0.49499284692417744\n",
      "Test error rate for run :0.5584415584415585\n",
      "*********************************************\n",
      "Run:8\n",
      "Initial learning rate:0.0004609967165008226\n",
      "Initial momentum:0.9884146092072426\n",
      "Training error rate for run :0.5035765379113019\n",
      "Test error rate for run :0.48051948051948057\n",
      "*********************************************\n",
      "Run:9\n",
      "Initial learning rate:0.0007827572460086536\n",
      "Initial momentum:0.9865552426449629\n",
      "Training error rate for run :0.5007153075822603\n",
      "Test error rate for run :0.5064935064935066\n"
     ]
    }
   ],
   "source": [
    "for i in range(10):\n",
    "    learning_rate=np.random.uniform(low=0.0001,high=0.001)\n",
    "    momentum=np.random.uniform(low=0.9,high=0.99)\n",
    "    model=LogisticRegression(learning_rate,momentum,after_elimination_50.shape[0],0.0001,0.0002)\n",
    "    x_train,y_train,x_test,y_test=data_partitions[i]\n",
    "    model.print_model_parameters(i)\n",
    "    model.train(x_train[:,after_elimination_50].reshape(x_train.shape[0],after_elimination_50.shape[0]),y_train,10)\n",
    "    model.evaluate(\"Test\",y_test,model.predict(x_test[:,after_elimination_50].reshape(x_test.shape[0],after_elimination_50.shape[0])))"
   ]
  },
  {
   "cell_type": "code",
   "execution_count": 68,
   "metadata": {},
   "outputs": [
    {
     "name": "stdout",
     "output_type": "stream",
     "text": [
      "\n",
      "Run 0\n",
      "Fitting 2 folds for each of 24 candidates, totalling 48 fits\n"
     ]
    },
    {
     "name": "stderr",
     "output_type": "stream",
     "text": [
      "[Parallel(n_jobs=-1)]: Using backend LokyBackend with 12 concurrent workers.\n",
      "[Parallel(n_jobs=-1)]: Done   8 tasks      | elapsed:    1.7s\n",
      "[Parallel(n_jobs=-1)]: Done  42 out of  48 | elapsed:    3.0s remaining:    0.3s\n",
      "[Parallel(n_jobs=-1)]: Done  48 out of  48 | elapsed:    3.3s finished\n"
     ]
    },
    {
     "name": "stdout",
     "output_type": "stream",
     "text": [
      "Training error:0.5274580533023601\n",
      "Testing error:0.012820512820512775\n",
      "Parameters:{'alpha': 0.0001, 'hidden_layer_sizes': (30, 10, 2), 'solver': 'adam'}\n",
      "\n",
      "Run 1\n",
      "Fitting 2 folds for each of 24 candidates, totalling 48 fits\n"
     ]
    },
    {
     "name": "stderr",
     "output_type": "stream",
     "text": [
      "[Parallel(n_jobs=-1)]: Using backend LokyBackend with 12 concurrent workers.\n",
      "[Parallel(n_jobs=-1)]: Done   8 tasks      | elapsed:    0.4s\n",
      "[Parallel(n_jobs=-1)]: Done  42 out of  48 | elapsed:    1.9s remaining:    0.2s\n",
      "[Parallel(n_jobs=-1)]: Done  48 out of  48 | elapsed:    2.2s finished\n"
     ]
    },
    {
     "name": "stdout",
     "output_type": "stream",
     "text": [
      "Training error:0.44966264147299695\n",
      "Testing error:0.0\n",
      "Parameters:{'alpha': 0.0001, 'hidden_layer_sizes': (100, 10, 2), 'solver': 'adam'}\n",
      "\n",
      "Run 2\n",
      "Fitting 2 folds for each of 24 candidates, totalling 48 fits\n"
     ]
    },
    {
     "name": "stderr",
     "output_type": "stream",
     "text": [
      "[Parallel(n_jobs=-1)]: Using backend LokyBackend with 12 concurrent workers.\n",
      "[Parallel(n_jobs=-1)]: Done   8 tasks      | elapsed:    0.4s\n",
      "[Parallel(n_jobs=-1)]: Done  42 out of  48 | elapsed:    2.0s remaining:    0.2s\n",
      "[Parallel(n_jobs=-1)]: Done  48 out of  48 | elapsed:    2.2s finished\n"
     ]
    },
    {
     "name": "stdout",
     "output_type": "stream",
     "text": [
      "Training error:0.4319434804122697\n",
      "Testing error:0.5641025641025641\n",
      "Parameters:{'alpha': 1e-05, 'hidden_layer_sizes': (30, 10, 2), 'solver': 'adam'}\n",
      "\n",
      "Run 3\n",
      "Fitting 2 folds for each of 24 candidates, totalling 48 fits\n"
     ]
    },
    {
     "name": "stderr",
     "output_type": "stream",
     "text": [
      "[Parallel(n_jobs=-1)]: Using backend LokyBackend with 12 concurrent workers.\n",
      "[Parallel(n_jobs=-1)]: Done   8 tasks      | elapsed:    0.4s\n",
      "[Parallel(n_jobs=-1)]: Done  42 out of  48 | elapsed:    2.1s remaining:    0.2s\n",
      "[Parallel(n_jobs=-1)]: Done  48 out of  48 | elapsed:    2.5s finished\n"
     ]
    },
    {
     "name": "stdout",
     "output_type": "stream",
     "text": [
      "Training error:0.3978948397602106\n",
      "Testing error:0.012820512820512775\n",
      "Parameters:{'alpha': 0.0001, 'hidden_layer_sizes': (100, 10, 2), 'solver': 'adam'}\n",
      "\n",
      "Run 4\n",
      "Fitting 2 folds for each of 24 candidates, totalling 48 fits\n"
     ]
    },
    {
     "name": "stderr",
     "output_type": "stream",
     "text": [
      "[Parallel(n_jobs=-1)]: Using backend LokyBackend with 12 concurrent workers.\n",
      "[Parallel(n_jobs=-1)]: Done   8 tasks      | elapsed:    0.6s\n",
      "[Parallel(n_jobs=-1)]: Done  42 out of  48 | elapsed:    2.5s remaining:    0.3s\n",
      "[Parallel(n_jobs=-1)]: Done  48 out of  48 | elapsed:    3.1s finished\n"
     ]
    },
    {
     "name": "stdout",
     "output_type": "stream",
     "text": [
      "Training error:0.4516806479833174\n",
      "Testing error:0.012820512820512775\n",
      "Parameters:{'alpha': 1e-05, 'hidden_layer_sizes': (30, 10, 2), 'solver': 'sgd'}\n",
      "\n",
      "Run 5\n",
      "Fitting 2 folds for each of 24 candidates, totalling 48 fits\n"
     ]
    },
    {
     "name": "stderr",
     "output_type": "stream",
     "text": [
      "[Parallel(n_jobs=-1)]: Using backend LokyBackend with 12 concurrent workers.\n",
      "[Parallel(n_jobs=-1)]: Done   8 tasks      | elapsed:    0.4s\n",
      "[Parallel(n_jobs=-1)]: Done  42 out of  48 | elapsed:    2.6s remaining:    0.3s\n",
      "[Parallel(n_jobs=-1)]: Done  48 out of  48 | elapsed:    3.0s finished\n"
     ]
    },
    {
     "name": "stdout",
     "output_type": "stream",
     "text": [
      "Training error:0.6203101711222482\n",
      "Testing error:0.5769230769230769\n",
      "Parameters:{'alpha': 1e-05, 'hidden_layer_sizes': (100, 10, 2), 'solver': 'adam'}\n",
      "\n",
      "Run 6\n",
      "Fitting 2 folds for each of 24 candidates, totalling 48 fits\n"
     ]
    },
    {
     "name": "stderr",
     "output_type": "stream",
     "text": [
      "[Parallel(n_jobs=-1)]: Using backend LokyBackend with 12 concurrent workers.\n",
      "[Parallel(n_jobs=-1)]: Done   8 tasks      | elapsed:    0.5s\n",
      "[Parallel(n_jobs=-1)]: Done  42 out of  48 | elapsed:    2.5s remaining:    0.3s\n",
      "[Parallel(n_jobs=-1)]: Done  48 out of  48 | elapsed:    2.9s finished\n"
     ]
    },
    {
     "name": "stdout",
     "output_type": "stream",
     "text": [
      "Training error:0.5255274826102947\n",
      "Testing error:0.0\n",
      "Parameters:{'alpha': 1e-05, 'hidden_layer_sizes': (30, 10, 2), 'solver': 'sgd'}\n",
      "\n",
      "Run 7\n",
      "Fitting 2 folds for each of 24 candidates, totalling 48 fits\n"
     ]
    },
    {
     "name": "stderr",
     "output_type": "stream",
     "text": [
      "[Parallel(n_jobs=-1)]: Using backend LokyBackend with 12 concurrent workers.\n",
      "[Parallel(n_jobs=-1)]: Done   8 tasks      | elapsed:    0.5s\n",
      "[Parallel(n_jobs=-1)]: Done  42 out of  48 | elapsed:    2.8s remaining:    0.3s\n",
      "[Parallel(n_jobs=-1)]: Done  48 out of  48 | elapsed:    3.2s finished\n"
     ]
    },
    {
     "name": "stdout",
     "output_type": "stream",
     "text": [
      "Training error:0.4476013065839399\n",
      "Testing error:0.0\n",
      "Parameters:{'alpha': 0.001, 'hidden_layer_sizes': (100, 10, 2), 'solver': 'adam'}\n",
      "\n",
      "Run 8\n",
      "Fitting 2 folds for each of 24 candidates, totalling 48 fits\n"
     ]
    },
    {
     "name": "stderr",
     "output_type": "stream",
     "text": [
      "[Parallel(n_jobs=-1)]: Using backend LokyBackend with 12 concurrent workers.\n",
      "[Parallel(n_jobs=-1)]: Done   8 tasks      | elapsed:    0.4s\n",
      "[Parallel(n_jobs=-1)]: Done  42 out of  48 | elapsed:    2.6s remaining:    0.3s\n",
      "[Parallel(n_jobs=-1)]: Done  48 out of  48 | elapsed:    2.7s finished\n"
     ]
    },
    {
     "name": "stdout",
     "output_type": "stream",
     "text": [
      "Training error:0.5691939539983523\n",
      "Testing error:0.012987012987012991\n",
      "Parameters:{'alpha': 0.001, 'hidden_layer_sizes': (30, 10, 2), 'solver': 'adam'}\n",
      "\n",
      "Run 9\n",
      "Fitting 2 folds for each of 24 candidates, totalling 48 fits\n"
     ]
    },
    {
     "name": "stderr",
     "output_type": "stream",
     "text": [
      "[Parallel(n_jobs=-1)]: Using backend LokyBackend with 12 concurrent workers.\n",
      "[Parallel(n_jobs=-1)]: Done   8 tasks      | elapsed:    0.6s\n",
      "[Parallel(n_jobs=-1)]: Done  42 out of  48 | elapsed:    2.9s remaining:    0.3s\n",
      "[Parallel(n_jobs=-1)]: Done  48 out of  48 | elapsed:    3.1s finished\n"
     ]
    },
    {
     "name": "stdout",
     "output_type": "stream",
     "text": [
      "Training error:0.42985905756328013\n",
      "Testing error:0.0\n",
      "Parameters:{'alpha': 1e-05, 'hidden_layer_sizes': (30, 10, 2), 'solver': 'adam'}\n"
     ]
    }
   ],
   "source": [
    "parameters={\n",
    "    'hidden_layer_sizes':[(10,20),(50,30),(100,10,2),(30,10,2)],\n",
    "    'solver':['adam','sgd'],\n",
    "    'alpha':[0.0001,0.00001,0.001]\n",
    "}\n",
    "skmodels=[]\n",
    "for i,(x_train,y_train,x_test,y_test) in enumerate(data_partitions):\n",
    "    print(\"\\nRun {0}\".format(i))\n",
    "    model=GridSearchCV(MLPClassifier(),param_grid=parameters,n_jobs=-1,cv=2,verbose=3,scoring='neg_log_loss')\n",
    "    model.fit(x_train,y_train)\n",
    "    worst_training_error=model.cv_results_['mean_test_score']\n",
    "    print(\"Training error:{0}\".format(-np.min(worst_training_error)))\n",
    "    test_model=MLPClassifier(**model.cv_results_['params'][np.argmin(worst_training_error)])\n",
    "    test_model.fit(x_train,y_train)\n",
    "    print(\"Testing error:{0}\".format(1-accuracy_score(y_test,test_model.predict(x_test))))\n",
    "    print(\"Parameters:{0}\".format(model.cv_results_['params'][np.argmin(worst_training_error)]))    \n",
    "    skmodels.append(model)"
   ]
  },
  {
   "cell_type": "code",
   "execution_count": 49,
   "metadata": {},
   "outputs": [
    {
     "name": "stdout",
     "output_type": "stream",
     "text": [
      "Fitting 2 folds for each of 24 candidates, totalling 48 fits\n"
     ]
    },
    {
     "name": "stderr",
     "output_type": "stream",
     "text": [
      "[Parallel(n_jobs=-1)]: Using backend LokyBackend with 12 concurrent workers.\n",
      "[Parallel(n_jobs=-1)]: Done   8 tasks      | elapsed:    0.3s\n",
      "[Parallel(n_jobs=-1)]: Done  42 out of  48 | elapsed:    1.7s remaining:    0.2s\n",
      "[Parallel(n_jobs=-1)]: Done  48 out of  48 | elapsed:    1.8s finished\n"
     ]
    },
    {
     "data": {
      "text/plain": [
       "GridSearchCV(cv=2, error_score=nan,\n",
       "             estimator=MLPClassifier(activation='relu', alpha=0.0001,\n",
       "                                     batch_size='auto', beta_1=0.9,\n",
       "                                     beta_2=0.999, early_stopping=False,\n",
       "                                     epsilon=1e-08, hidden_layer_sizes=(100,),\n",
       "                                     learning_rate='constant',\n",
       "                                     learning_rate_init=0.001, max_fun=15000,\n",
       "                                     max_iter=200, momentum=0.9,\n",
       "                                     n_iter_no_change=10,\n",
       "                                     nesterovs_momentum=True, power_t=0.5,\n",
       "                                     random_state=None, shuffle=True,\n",
       "                                     solver='adam', tol=0.0001,\n",
       "                                     validation_fraction=0.1, verbose=False,\n",
       "                                     warm_start=False),\n",
       "             iid='deprecated', n_jobs=-1,\n",
       "             param_grid={'alpha': [0.0001, 1e-05, 0.001],\n",
       "                         'hidden_layer_sizes': [(10, 20), (50, 30),\n",
       "                                                (100, 10, 2), (30, 10, 2)],\n",
       "                         'solver': ['adam', 'sgd']},\n",
       "             pre_dispatch='2*n_jobs', refit=True, return_train_score=False,\n",
       "             scoring='neg_log_loss', verbose=3)"
      ]
     },
     "execution_count": 49,
     "metadata": {},
     "output_type": "execute_result"
    }
   ],
   "source": []
  },
  {
   "cell_type": "code",
   "execution_count": 50,
   "metadata": {},
   "outputs": [
    {
     "data": {
      "text/plain": [
       "{'alpha': 1e-05, 'hidden_layer_sizes': (100, 10, 2), 'solver': 'adam'}"
      ]
     },
     "execution_count": 50,
     "metadata": {},
     "output_type": "execute_result"
    }
   ],
   "source": [
    "model.cv_results_['params'][np.argmin(model.cv_results_['mean_test_score'])]"
   ]
  },
  {
   "cell_type": "code",
   "execution_count": 52,
   "metadata": {},
   "outputs": [
    {
     "data": {
      "text/plain": [
       "MLPClassifier(activation='relu', alpha=0.0001, batch_size='auto', beta_1=0.9,\n",
       "              beta_2=0.999, early_stopping=False, epsilon=1e-08,\n",
       "              hidden_layer_sizes=(100,), learning_rate='constant',\n",
       "              learning_rate_init=0.001, max_fun=15000, max_iter=200,\n",
       "              momentum=0.9, n_iter_no_change=10, nesterovs_momentum=True,\n",
       "              power_t=0.5, random_state=None, shuffle=True, solver='adam',\n",
       "              tol=0.0001, validation_fraction=0.1, verbose=False,\n",
       "              warm_start=False)"
      ]
     },
     "execution_count": 52,
     "metadata": {},
     "output_type": "execute_result"
    }
   ],
   "source": [
    "model.estimator"
   ]
  },
  {
   "cell_type": "code",
   "execution_count": null,
   "metadata": {},
   "outputs": [],
   "source": []
  }
 ],
 "metadata": {
  "kernelspec": {
   "display_name": "Python 3",
   "language": "python",
   "name": "python3"
  },
  "language_info": {
   "codemirror_mode": {
    "name": "ipython",
    "version": 3
   },
   "file_extension": ".py",
   "mimetype": "text/x-python",
   "name": "python",
   "nbconvert_exporter": "python",
   "pygments_lexer": "ipython3",
   "version": "3.6.10"
  }
 },
 "nbformat": 4,
 "nbformat_minor": 4
}
