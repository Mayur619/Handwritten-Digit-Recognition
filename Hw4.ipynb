{
 "cells": [
  {
   "cell_type": "code",
   "execution_count": 122,
   "metadata": {},
   "outputs": [],
   "source": [
    "import pandas as pd\n",
    "import numpy as np\n",
    "from sklearn.model_selection import train_test_split\n",
    "from sklearn.metrics import accuracy_score"
   ]
  },
  {
   "cell_type": "code",
   "execution_count": 151,
   "metadata": {},
   "outputs": [],
   "source": [
    "training_df=pd.read_csv(\"data/optdigits.tra\",header=None)\n",
    "training_df=training_df[((training_df.iloc[:,-1]==1) | (training_df.iloc[:,-1]==7))]\n",
    "training_df.replace({7:0},inplace=True)\n",
    "DIMENSIONS=x_train.shape[1]"
   ]
  },
  {
   "cell_type": "code",
   "execution_count": 162,
   "metadata": {},
   "outputs": [],
   "source": [
    "class LogisticRegression:\n",
    "    def __init__(self,learning_rate,momentum,dimensions):\n",
    "        self.learning_rate=learning_rate\n",
    "        self.momentum=momentum\n",
    "        self.dimensions=dimensions\n",
    "        self.weights=np.random.uniform(low=-0.01,high=0.01,size=(dimensions,1))\n",
    "    def print_model_parameters(self,i):\n",
    "        print(\"*\"*45)\n",
    "        print(\"Run:{0}\\nInitial learning rate:{1}\\nInitial momentum:{2}\".format(i,self.learning_rate,self.momentum))\n",
    "    def sigmoid_activation(self,x):\n",
    "        return 1/(1+np.exp(-x))\n",
    "    def train(self,x_train,y_train,n_iter):\n",
    "        for _ in range(n_iter):\n",
    "            d_weights=np.zeros(shape=(self.dimensions))\n",
    "            for i in range(x_train.shape[0]):\n",
    "                o=0\n",
    "                for j in range(x_train.shape[1]):\n",
    "                    o+=(self.weights[j]*x_train[i,j])\n",
    "                y_pred=self.sigmoid_activation(o)\n",
    "                for j in range(x_train.shape[1]):\n",
    "                    d_weights[j]+=(y_train[i]-y_pred)*x_train[i,j]\n",
    "            for j in range(self.dimensions):\n",
    "                self.weights[j]+=(self.learning_rate*d_weights[j])\n",
    "    def predict(self,x):\n",
    "        y_pred=self.sigmoid_activation(np.sum(x*self.weights.T,axis=1))\n",
    "        y_pred=np.array(y_pred>0.5,dtype=np.int16)\n",
    "        return y_pred\n",
    "    def evaluate(self,i,y_true,y_pred):\n",
    "        print(\"Error rate for run {0}:{1}\".format(i,1-accuracy_score(y_true,y_pred)))\n",
    "        print(\"*\"*45)"
   ]
  },
  {
   "cell_type": "code",
   "execution_count": 163,
   "metadata": {},
   "outputs": [
    {
     "name": "stdout",
     "output_type": "stream",
     "text": [
      "*********************************************\n",
      "Run:0\n",
      "Initial learning rate:0.0009694218882256579\n",
      "Initial momentum:0.9618232647677237\n",
      "Error rate for run 0:0.0064102564102563875\n",
      "*********************************************\n",
      "*********************************************\n",
      "Run:1\n",
      "Initial learning rate:0.0008782918812930289\n",
      "Initial momentum:0.9669214672164478\n",
      "Error rate for run 1:0.0064102564102563875\n",
      "*********************************************\n",
      "*********************************************\n",
      "Run:2\n",
      "Initial learning rate:0.0009221578053957484\n",
      "Initial momentum:0.9720976194021691\n",
      "Error rate for run 2:0.0064102564102563875\n",
      "*********************************************\n",
      "*********************************************\n",
      "Run:3\n",
      "Initial learning rate:0.0006661706925468288\n",
      "Initial momentum:0.979049332982394\n",
      "Error rate for run 3:0.0064102564102563875\n",
      "*********************************************\n",
      "*********************************************\n",
      "Run:4\n",
      "Initial learning rate:0.00021438356578157414\n",
      "Initial momentum:0.9131948087808577\n",
      "Error rate for run 4:0.0064102564102563875\n",
      "*********************************************\n",
      "*********************************************\n",
      "Run:5\n",
      "Initial learning rate:0.0003962263400366078\n",
      "Initial momentum:0.9773742525953976\n",
      "Error rate for run 5:0.019230769230769273\n",
      "*********************************************\n",
      "*********************************************\n",
      "Run:6\n",
      "Initial learning rate:0.0003835062347985295\n",
      "Initial momentum:0.9032461231906752\n",
      "Error rate for run 6:0.0064102564102563875\n",
      "*********************************************\n",
      "*********************************************\n",
      "Run:7\n",
      "Initial learning rate:0.0001307637836750077\n",
      "Initial momentum:0.9073064436417176\n",
      "Error rate for run 7:0.0064102564102563875\n",
      "*********************************************\n",
      "*********************************************\n",
      "Run:8\n",
      "Initial learning rate:0.0005046001178794549\n",
      "Initial momentum:0.9221956289131162\n",
      "Error rate for run 8:0.019230769230769273\n",
      "*********************************************\n",
      "*********************************************\n",
      "Run:9\n",
      "Initial learning rate:0.0008317146950481886\n",
      "Initial momentum:0.9349079048962298\n",
      "Error rate for run 9:0.0064102564102563875\n",
      "*********************************************\n"
     ]
    }
   ],
   "source": [
    "for i in range(10):\n",
    "    learning_rate=np.random.uniform(low=0.0001,high=0.001)\n",
    "    momentum=np.random.uniform(low=0.9,high=0.99)\n",
    "    model=LogisticRegression(learning_rate,momentum,DIMENSIONS)\n",
    "    x_train,x_test,y_train,y_test=train_test_split(training_df.iloc[:,:-1].values,training_df.iloc[:,-1].values,train_size=0.8)\n",
    "    model.print_model_parameters(i)\n",
    "    model.train(x_train,y_train,10)\n",
    "    model.evaluate(i,y_test,model.predict(x_test))"
   ]
  },
  {
   "cell_type": "code",
   "execution_count": 164,
   "metadata": {},
   "outputs": [
    {
     "data": {
      "text/plain": [
       "0.3520415678472222"
      ]
     },
     "execution_count": 164,
     "metadata": {},
     "output_type": "execute_result"
    }
   ],
   "source": [
    "np.random.uniform(low=0.00)"
   ]
  },
  {
   "cell_type": "code",
   "execution_count": null,
   "metadata": {},
   "outputs": [],
   "source": []
  }
 ],
 "metadata": {
  "kernelspec": {
   "display_name": "Python 3",
   "language": "python",
   "name": "python3"
  },
  "language_info": {
   "codemirror_mode": {
    "name": "ipython",
    "version": 3
   },
   "file_extension": ".py",
   "mimetype": "text/x-python",
   "name": "python",
   "nbconvert_exporter": "python",
   "pygments_lexer": "ipython3",
   "version": "3.6.10"
  }
 },
 "nbformat": 4,
 "nbformat_minor": 4
}
